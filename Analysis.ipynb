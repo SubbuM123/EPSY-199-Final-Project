{
 "cells": [
  {
   "cell_type": "markdown",
   "metadata": {},
   "source": [
    "### 1.1 Means of Each Cluster\n",
    "\n",
    "Index 0 is rating range 1000-1200, and each index after this increases the range by 200"
   ]
  },
  {
   "cell_type": "code",
   "execution_count": 5,
   "metadata": {},
   "outputs": [
    {
     "data": {
      "text/html": [
       "<div>\n",
       "<style scoped>\n",
       "    .dataframe tbody tr th:only-of-type {\n",
       "        vertical-align: middle;\n",
       "    }\n",
       "\n",
       "    .dataframe tbody tr th {\n",
       "        vertical-align: top;\n",
       "    }\n",
       "\n",
       "    .dataframe thead th {\n",
       "        text-align: right;\n",
       "    }\n",
       "</style>\n",
       "<table border=\"1\" class=\"dataframe\">\n",
       "  <thead>\n",
       "    <tr style=\"text-align: right;\">\n",
       "      <th></th>\n",
       "      <th>Captures</th>\n",
       "      <th>Endgame</th>\n",
       "      <th>Middlegame</th>\n",
       "      <th>Major Pieces</th>\n",
       "      <th>Minor Pieces</th>\n",
       "      <th>Pawn</th>\n",
       "    </tr>\n",
       "  </thead>\n",
       "  <tbody>\n",
       "    <tr>\n",
       "      <th>0</th>\n",
       "      <td>0.308252</td>\n",
       "      <td>0.128470</td>\n",
       "      <td>0.679826</td>\n",
       "      <td>0.212988</td>\n",
       "      <td>0.311990</td>\n",
       "      <td>0.441882</td>\n",
       "    </tr>\n",
       "    <tr>\n",
       "      <th>1</th>\n",
       "      <td>0.331982</td>\n",
       "      <td>0.127456</td>\n",
       "      <td>0.624716</td>\n",
       "      <td>0.275428</td>\n",
       "      <td>0.338494</td>\n",
       "      <td>0.392520</td>\n",
       "    </tr>\n",
       "    <tr>\n",
       "      <th>2</th>\n",
       "      <td>0.311670</td>\n",
       "      <td>0.136506</td>\n",
       "      <td>0.605489</td>\n",
       "      <td>0.304978</td>\n",
       "      <td>0.443995</td>\n",
       "      <td>0.375699</td>\n",
       "    </tr>\n",
       "    <tr>\n",
       "      <th>3</th>\n",
       "      <td>0.351348</td>\n",
       "      <td>0.150155</td>\n",
       "      <td>0.578999</td>\n",
       "      <td>0.379055</td>\n",
       "      <td>0.368583</td>\n",
       "      <td>0.350162</td>\n",
       "    </tr>\n",
       "    <tr>\n",
       "      <th>4</th>\n",
       "      <td>0.349287</td>\n",
       "      <td>0.254833</td>\n",
       "      <td>0.507012</td>\n",
       "      <td>0.412655</td>\n",
       "      <td>0.447639</td>\n",
       "      <td>0.323259</td>\n",
       "    </tr>\n",
       "    <tr>\n",
       "      <th>5</th>\n",
       "      <td>0.322284</td>\n",
       "      <td>0.124848</td>\n",
       "      <td>0.597557</td>\n",
       "      <td>0.338613</td>\n",
       "      <td>0.453219</td>\n",
       "      <td>0.394867</td>\n",
       "    </tr>\n",
       "    <tr>\n",
       "      <th>6</th>\n",
       "      <td>0.390244</td>\n",
       "      <td>0.169257</td>\n",
       "      <td>0.521409</td>\n",
       "      <td>0.333176</td>\n",
       "      <td>0.411550</td>\n",
       "      <td>0.335585</td>\n",
       "    </tr>\n",
       "  </tbody>\n",
       "</table>\n",
       "</div>"
      ],
      "text/plain": [
       "   Captures   Endgame  Middlegame  Major Pieces  Minor Pieces      Pawn\n",
       "0  0.308252  0.128470    0.679826      0.212988      0.311990  0.441882\n",
       "1  0.331982  0.127456    0.624716      0.275428      0.338494  0.392520\n",
       "2  0.311670  0.136506    0.605489      0.304978      0.443995  0.375699\n",
       "3  0.351348  0.150155    0.578999      0.379055      0.368583  0.350162\n",
       "4  0.349287  0.254833    0.507012      0.412655      0.447639  0.323259\n",
       "5  0.322284  0.124848    0.597557      0.338613      0.453219  0.394867\n",
       "6  0.390244  0.169257    0.521409      0.333176      0.411550  0.335585"
      ]
     },
     "execution_count": 5,
     "metadata": {},
     "output_type": "execute_result"
    }
   ],
   "source": [
    "import pandas as pd\n",
    "df = pd.read_csv(\"JupyterData/Mean.csv\")\n",
    "df"
   ]
  },
  {
   "cell_type": "markdown",
   "metadata": {},
   "source": [
    "### 1.2 Average Standard Deviation of Each Range's Clusters"
   ]
  },
  {
   "cell_type": "code",
   "execution_count": 6,
   "metadata": {},
   "outputs": [
    {
     "data": {
      "text/html": [
       "<div>\n",
       "<style scoped>\n",
       "    .dataframe tbody tr th:only-of-type {\n",
       "        vertical-align: middle;\n",
       "    }\n",
       "\n",
       "    .dataframe tbody tr th {\n",
       "        vertical-align: top;\n",
       "    }\n",
       "\n",
       "    .dataframe thead th {\n",
       "        text-align: right;\n",
       "    }\n",
       "</style>\n",
       "<table border=\"1\" class=\"dataframe\">\n",
       "  <thead>\n",
       "    <tr style=\"text-align: right;\">\n",
       "      <th></th>\n",
       "      <th>Captures</th>\n",
       "      <th>Endgame</th>\n",
       "      <th>Middlegame</th>\n",
       "      <th>Major Pieces</th>\n",
       "      <th>Minor Pieces</th>\n",
       "      <th>Pawn</th>\n",
       "    </tr>\n",
       "  </thead>\n",
       "  <tbody>\n",
       "    <tr>\n",
       "      <th>0</th>\n",
       "      <td>0.119468</td>\n",
       "      <td>0.262399</td>\n",
       "      <td>0.277492</td>\n",
       "      <td>0.149897</td>\n",
       "      <td>0.158783</td>\n",
       "      <td>0.258503</td>\n",
       "    </tr>\n",
       "    <tr>\n",
       "      <th>1</th>\n",
       "      <td>0.119461</td>\n",
       "      <td>0.244403</td>\n",
       "      <td>0.264817</td>\n",
       "      <td>0.186549</td>\n",
       "      <td>0.089713</td>\n",
       "      <td>0.168866</td>\n",
       "    </tr>\n",
       "    <tr>\n",
       "      <th>2</th>\n",
       "      <td>0.098399</td>\n",
       "      <td>0.255147</td>\n",
       "      <td>0.256714</td>\n",
       "      <td>0.177939</td>\n",
       "      <td>0.094631</td>\n",
       "      <td>0.124337</td>\n",
       "    </tr>\n",
       "    <tr>\n",
       "      <th>3</th>\n",
       "      <td>0.043528</td>\n",
       "      <td>0.255112</td>\n",
       "      <td>0.220822</td>\n",
       "      <td>0.215353</td>\n",
       "      <td>0.076615</td>\n",
       "      <td>0.080488</td>\n",
       "    </tr>\n",
       "    <tr>\n",
       "      <th>4</th>\n",
       "      <td>0.025475</td>\n",
       "      <td>0.315759</td>\n",
       "      <td>0.171846</td>\n",
       "      <td>0.161788</td>\n",
       "      <td>0.118175</td>\n",
       "      <td>0.059427</td>\n",
       "    </tr>\n",
       "    <tr>\n",
       "      <th>5</th>\n",
       "      <td>0.118797</td>\n",
       "      <td>0.220083</td>\n",
       "      <td>0.253494</td>\n",
       "      <td>0.232072</td>\n",
       "      <td>0.095749</td>\n",
       "      <td>0.155486</td>\n",
       "    </tr>\n",
       "    <tr>\n",
       "      <th>6</th>\n",
       "      <td>0.057102</td>\n",
       "      <td>0.248143</td>\n",
       "      <td>0.153180</td>\n",
       "      <td>0.126268</td>\n",
       "      <td>0.082339</td>\n",
       "      <td>0.084231</td>\n",
       "    </tr>\n",
       "  </tbody>\n",
       "</table>\n",
       "</div>"
      ],
      "text/plain": [
       "   Captures   Endgame  Middlegame  Major Pieces  Minor Pieces      Pawn\n",
       "0  0.119468  0.262399    0.277492      0.149897      0.158783  0.258503\n",
       "1  0.119461  0.244403    0.264817      0.186549      0.089713  0.168866\n",
       "2  0.098399  0.255147    0.256714      0.177939      0.094631  0.124337\n",
       "3  0.043528  0.255112    0.220822      0.215353      0.076615  0.080488\n",
       "4  0.025475  0.315759    0.171846      0.161788      0.118175  0.059427\n",
       "5  0.118797  0.220083    0.253494      0.232072      0.095749  0.155486\n",
       "6  0.057102  0.248143    0.153180      0.126268      0.082339  0.084231"
      ]
     },
     "execution_count": 6,
     "metadata": {},
     "output_type": "execute_result"
    }
   ],
   "source": [
    "df = pd.read_csv(\"JupyterData/STD.csv\")\n",
    "df"
   ]
  },
  {
   "cell_type": "markdown",
   "metadata": {},
   "source": [
    "### 2.1 Logistic Regression"
   ]
  },
  {
   "cell_type": "code",
   "execution_count": 7,
   "metadata": {},
   "outputs": [
    {
     "name": "stdout",
     "output_type": "stream",
     "text": [
      "0.040225\n"
     ]
    }
   ],
   "source": [
    "from sklearn.linear_model import LogisticRegression\n",
    "\n",
    "df = pd.read_csv(\"KMeans/Labelled_Clusters_Dataset\")\n",
    "model = LogisticRegression()\n",
    "\n",
    "\n",
    "ind = [\"Captures\", \"Endgame\", \"Middlegame\", \"Major Pieces\", \"Minor Pieces\", \"Pawn\"]\n",
    "dep = \"Player\"\n",
    "\n",
    "l = LogisticRegression(random_state=0).fit(df[ind], df[dep])\n",
    "print(l.score(df[ind], df[dep]))"
   ]
  },
  {
   "cell_type": "code",
   "execution_count": null,
   "metadata": {},
   "outputs": [],
   "source": []
  }
 ],
 "metadata": {
  "kernelspec": {
   "display_name": "Python 3",
   "language": "python",
   "name": "python3"
  },
  "language_info": {
   "codemirror_mode": {
    "name": "ipython",
    "version": 3
   },
   "file_extension": ".py",
   "mimetype": "text/x-python",
   "name": "python",
   "nbconvert_exporter": "python",
   "pygments_lexer": "ipython3",
   "version": "3.12.3"
  }
 },
 "nbformat": 4,
 "nbformat_minor": 2
}
